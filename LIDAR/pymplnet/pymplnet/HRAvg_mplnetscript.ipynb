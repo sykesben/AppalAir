{
 "cells": [
  {
   "cell_type": "code",
   "execution_count": 1,
   "metadata": {},
   "outputs": [],
   "source": [
    "import mplnetpytools as mpt\n",
    "import os\n",
    "import numpy as np\n",
    "import pandas as pd\n",
    "import warnings\n",
    "import datetime as dt\n",
    "import matplotlib.pyplot as plt\n",
    "\n",
    "# get current working directory\n",
    "path = os.getcwd()\n",
    "# change directory to data folder\n",
    "os.chdir('C:/Users/kitteringhamrr/Desktop/Pymplnet/pymplnet/mplnet-data/pymplnet/data')\n",
    "\n",
    "# Main site url\n",
    "mplnet_url= 'https://mplnet.gsfc.nasa.gov/out/data/V3_partners/Appalachian_State/'\n",
    "\n",
    "# get data folder path\n",
    "path = os.getcwd()"
   ]
  },
  {
   "cell_type": "code",
   "execution_count": 8,
   "metadata": {},
   "outputs": [
    {
     "name": "stdout",
     "output_type": "stream",
     "text": [
      "C:\\Users\\kitteringhamrr\\Desktop\\Pymplnet\\pymplnet\\mplnet-data\\pymplnet\\data\n"
     ]
    }
   ],
   "source": [
    "(print(os.getcwd()))"
   ]
  },
  {
   "cell_type": "code",
   "execution_count": 82,
   "metadata": {},
   "outputs": [
    {
     "name": "stdout",
     "output_type": "stream",
     "text": [
      "['2022']\n",
      "['12']\n",
      "['01', '02', '03', '04', '05', '06', '07', '08', '09', '10', '11', '12', '13', '14', '15', '16', '17', '18', '19', '20', '21', '22', '23', '24', '25', '26', '27', '28', '29', '30', '31']\n"
     ]
    }
   ],
   "source": [
    "# Setup selection for download\n",
    "years = ['2022']\n",
    "months = ['12']\n",
    "\n",
    "#choose first and last day of selection (1-31) \n",
    "firstday = 1\n",
    "lastday = 31\n",
    "days_arr = np.linspace(firstday, lastday, lastday-firstday+1).astype(int)\n",
    "days = [0]*len(days_arr)\n",
    "for ii in range(len(days_arr)):\n",
    "    if (days_arr[ii] < 10 and days_arr[ii] > 0 ):\n",
    "        days[ii] = '0' + str(days_arr[ii])\n",
    "    elif (days_arr[ii] >= 10 and days_arr[ii] < 32):\n",
    "        days[ii] = str(days_arr[ii])\n",
    "    else:\n",
    "        print('Make sure days are between 1 and 31 and the month(s) selected have 31 days.')\n",
    "\n",
    "level = ['L15'] #L15 or L1\n",
    "print(years)\n",
    "print(months)\n",
    "print(days)"
   ]
  },
  {
   "cell_type": "code",
   "execution_count": 83,
   "metadata": {},
   "outputs": [
    {
     "name": "stdout",
     "output_type": "stream",
     "text": [
      "Years selected: \n",
      "2022\n",
      "\n",
      "Months selected: \n",
      "12\n",
      "\n",
      "Days selected: \n",
      "01 02 03 04 05 06 07 08 09 10 11 12 13 14 15 16 17 18 19 20 21 22 23 24 25 26 27 28 29 30 31\n",
      "\n",
      "FileTypes selected: \n",
      "PBL\n",
      "\n",
      "Level selected: \n",
      "L15\n",
      "\n",
      "MPLNET_V3_L15_PBL_20221201_MPL44201_Appalachian_State.nc4 download successful\n",
      "MPLNET_V3_L15_PBL_20221202_MPL44201_Appalachian_State.nc4 download successful\n",
      "MPLNET_V3_L15_PBL_20221203_MPL44201_Appalachian_State.nc4 download successful\n",
      "MPLNET_V3_L15_PBL_20221204_MPL44201_Appalachian_State.nc4 download successful\n",
      "MPLNET_V3_L15_PBL_20221205_MPL44201_Appalachian_State.nc4 download successful\n",
      "MPLNET_V3_L15_PBL_20221206_MPL44201_Appalachian_State.nc4 download successful\n",
      "MPLNET_V3_L15_PBL_20221207_MPL44201_Appalachian_State.nc4 download successful\n",
      "MPLNET_V3_L15_PBL_20221208_MPL44201_Appalachian_State.nc4 download successful\n",
      "MPLNET_V3_L15_PBL_20221209_MPL44201_Appalachian_State.nc4 download failed\n",
      "MPLNET_V3_L15_PBL_20221210_MPL44201_Appalachian_State.nc4 download successful\n",
      "MPLNET_V3_L15_PBL_20221211_MPL44201_Appalachian_State.nc4 download failed\n",
      "MPLNET_V3_L15_PBL_20221212_MPL44201_Appalachian_State.nc4 download successful\n",
      "MPLNET_V3_L15_PBL_20221213_MPL44201_Appalachian_State.nc4 download successful\n",
      "MPLNET_V3_L15_PBL_20221214_MPL44201_Appalachian_State.nc4 download successful\n",
      "MPLNET_V3_L15_PBL_20221215_MPL44201_Appalachian_State.nc4 download successful\n",
      "MPLNET_V3_L15_PBL_20221216_MPL44201_Appalachian_State.nc4 download successful\n",
      "MPLNET_V3_L15_PBL_20221217_MPL44201_Appalachian_State.nc4 download failed\n",
      "MPLNET_V3_L15_PBL_20221218_MPL44201_Appalachian_State.nc4 download failed\n",
      "MPLNET_V3_L15_PBL_20221219_MPL44201_Appalachian_State.nc4 download failed\n",
      "MPLNET_V3_L15_PBL_20221220_MPL44201_Appalachian_State.nc4 download failed\n",
      "MPLNET_V3_L15_PBL_20221221_MPL44201_Appalachian_State.nc4 download successful\n",
      "MPLNET_V3_L15_PBL_20221222_MPL44201_Appalachian_State.nc4 download successful\n",
      "MPLNET_V3_L15_PBL_20221223_MPL44201_Appalachian_State.nc4 download successful\n",
      "MPLNET_V3_L15_PBL_20221224_MPL44201_Appalachian_State.nc4 download failed\n",
      "MPLNET_V3_L15_PBL_20221225_MPL44201_Appalachian_State.nc4 download failed\n",
      "MPLNET_V3_L15_PBL_20221226_MPL44201_Appalachian_State.nc4 download successful\n",
      "MPLNET_V3_L15_PBL_20221227_MPL44201_Appalachian_State.nc4 download successful\n",
      "MPLNET_V3_L15_PBL_20221228_MPL44201_Appalachian_State.nc4 download successful\n",
      "MPLNET_V3_L15_PBL_20221229_MPL44201_Appalachian_State.nc4 download successful\n",
      "MPLNET_V3_L15_PBL_20221230_MPL44201_Appalachian_State.nc4 download successful\n",
      "MPLNET_V3_L15_PBL_20221231_MPL44201_Appalachian_State.nc4 download failed\n"
     ]
    }
   ],
   "source": [
    "# Choose variable to export\n",
    "fileType = ['PBL']\n",
    "variable_cld = 'mixed_layer_height'\n",
    "download_list = [years, months, days, fileType, level]\n",
    "\n",
    "# Create SelectionVariables class object\n",
    "selVars = mpt.SelectionVariables()\n",
    "for dl in download_list:\n",
    "    selVars.next()\n",
    "    selVars.storeCurrent(dl)\n",
    "\n",
    "# Display selected years, months, days, and file types\n",
    "print(selVars.printSelected())\n",
    "\n",
    "# Build dowlnoad urls\n",
    "urls, dirs, files = selVars.prepDownload()\n",
    "\n",
    "# Download selected files\n",
    "for url, dir, file in zip(urls, dirs, files):\n",
    "    print(selVars.download(url, dir, file))\n",
    "\n",
    "filename_cld = mpt.create_export_name(selVars, variable_cld)\n",
    "\n",
    "\n",
    "# Create list of full file paths\n",
    "fullfiles_cld = [x + y for x, y in zip(dirs, files)]"
   ]
  },
  {
   "cell_type": "code",
   "execution_count": null,
   "metadata": {},
   "outputs": [],
   "source": [
    "# Choose variable to export\n",
    "fileType = ['NRB']\n",
    "variable_nrb = 'nrb'\n",
    "download_list = [years, months, days, fileType, level]\n",
    "\n",
    "# Create SelectionVariables class object\n",
    "selVars = mpt.SelectionVariables()\n",
    "for dl in download_list:\n",
    "    selVars.next()\n",
    "    selVars.storeCurrent(dl)\n",
    "\n",
    "# Display selected years, months, days, and file types\n",
    "print(selVars.printSelected())\n",
    "\n",
    "# Build dowlnoad urls\n",
    "urls, dirs, files = selVars.prepDownload()\n",
    "\n",
    "# Download selected files\n",
    "for url, dir, file in zip(urls, dirs, files):\n",
    "    print(selVars.download(url, dir, file))\n",
    "\n",
    "filename_nrb = mpt.create_export_name(selVars, variable_nrb)\n",
    "\n",
    "# Create list of full file paths\n",
    "fullfiles_nrb = [x + y for x, y in zip(dirs, files)]"
   ]
  },
  {
   "cell_type": "code",
   "execution_count": 84,
   "metadata": {},
   "outputs": [
    {
     "name": "stdout",
     "output_type": "stream",
     "text": [
      "['wavelength', 'time']\n",
      "['wavelength', 'time']\n",
      "['wavelength', 'time']\n",
      "['wavelength', 'time']\n",
      "['wavelength', 'time']\n",
      "['wavelength', 'time']\n",
      "['wavelength', 'time']\n",
      "['wavelength', 'time']\n",
      "['wavelength', 'time']\n",
      "['wavelength', 'time']\n",
      "['wavelength', 'time']\n",
      "['wavelength', 'time']\n",
      "['wavelength', 'time']\n",
      "['wavelength', 'time']\n",
      "['wavelength', 'time']\n",
      "['wavelength', 'time']\n",
      "['wavelength', 'time']\n",
      "['wavelength', 'time']\n",
      "['wavelength', 'time']\n",
      "['wavelength', 'time']\n",
      "['wavelength', 'time']\n",
      "['wavelength', 'time']\n",
      "1\n",
      "              mixed_layer_height\n",
      "time                            \n",
      "2.459915e+06            0.974326\n",
      "2.459915e+06            0.974326\n",
      "2.459915e+06            0.974326\n",
      "2.459915e+06            0.974326\n",
      "2.459915e+06            0.974326\n",
      "...                          ...\n",
      "2.459944e+06                 NaN\n",
      "2.459944e+06                 NaN\n",
      "2.459944e+06                 NaN\n",
      "2.459944e+06                 NaN\n",
      "2.459944e+06                 NaN\n",
      "\n",
      "[31680 rows x 1 columns]\n",
      "                     mixed_layer_height\n",
      "time                                   \n",
      "2022-12-01 00:00:00            0.974326\n",
      "2022-12-01 00:01:00            0.974326\n",
      "2022-12-01 00:03:00            0.974326\n",
      "2022-12-01 00:04:00            0.974326\n",
      "2022-12-01 00:05:00            0.974326\n",
      "...                                 ...\n",
      "2022-12-30 23:54:00                 NaN\n",
      "2022-12-30 23:55:00                 NaN\n",
      "2022-12-30 23:56:00                 NaN\n",
      "2022-12-30 23:58:00                 NaN\n",
      "2022-12-30 23:59:00                 NaN\n",
      "\n",
      "[31680 rows x 1 columns]\n"
     ]
    }
   ],
   "source": [
    "#df_avg = mpt.MinuteAvg(filename_nrb, fullfiles_nrb, variable_nrb)\n",
    "df_pbl = mpt.MinuteAvg(filename_cld, fullfiles_cld, variable_cld)\n",
    "\n",
    "#print(df_avg)\n",
    "print(df_pbl)\n",
    "#df_avg.to_csv('nrbmeanandstdev.csv')\n",
    "df_pbl.to_csv('PBL_L15_Y2022_M12_D01-31.csv')"
   ]
  },
  {
   "cell_type": "code",
   "execution_count": null,
   "metadata": {},
   "outputs": [],
   "source": [
    "df_nrb = mpt.returnDF(filename_nrb, fullfiles_nrb, variable_nrb)\n",
    "time_min = np.linspace(df_nrb.index[0]-(30/(24*60*60)), df_nrb.index[len(df_nrb.index)-1]-(30/(24*60*60)), int((len(df_nrb.index))))\n",
    "time_min = pd.to_datetime(time_min, unit = 'D', origin = 'julian').round(freq='T')\n",
    "df_time = pd.DataFrame({'time': time_min})\n",
    "df_time.set_index('time', inplace = True)\n",
    "print(df_time)\n",
    "\n",
    "print(len(df_nrb.columns))\n"
   ]
  },
  {
   "cell_type": "code",
   "execution_count": null,
   "metadata": {},
   "outputs": [],
   "source": [
    "dfmin = mpt.MinuteAvg(filename_nrb, fullfiles_nrb, variable_nrb)\n",
    "dfmin_aod = mpt.MinuteAvg(filename_aod, fullfiles_aer, variable_aod)\n",
    "aod_copy = np.asarray(dfmin_aod['aod']).copy()\n",
    "aod_copy[np.asarray(np.isnan(dfmin_aod['aod']))] = 0\n",
    "aod_copy[np.asarray(np.invert(np.isnan(dfmin_aod['aod'])))] = 1\n",
    "dfmin_aod['aod'] = aod_copy\n",
    "print(dfmin_aod)"
   ]
  },
  {
   "cell_type": "code",
   "execution_count": null,
   "metadata": {},
   "outputs": [
    {
     "name": "stdout",
     "output_type": "stream",
     "text": [
      "400\n"
     ]
    }
   ],
   "source": [
    "alt_arr = np.linspace(1.1549481, 31.059248, 400)\n",
    "print(len(alt_arr))"
   ]
  },
  {
   "cell_type": "code",
   "execution_count": null,
   "metadata": {},
   "outputs": [
    {
     "name": "stdout",
     "output_type": "stream",
     "text": [
      "              time  cloud_base\n",
      "0     2.460130e+06         1.0\n",
      "1     2.460130e+06         1.0\n",
      "2     2.460130e+06         1.0\n",
      "3     2.460130e+06         1.0\n",
      "4     2.460130e+06         1.0\n",
      "...            ...         ...\n",
      "2875  2.460131e+06         1.0\n",
      "2876  2.460131e+06         1.0\n",
      "2877  2.460131e+06         1.0\n",
      "2878  2.460131e+06         1.0\n",
      "2879  2.460131e+06         1.0\n",
      "\n",
      "[2880 rows x 2 columns]\n"
     ]
    }
   ],
   "source": [
    "#df_cldb = pd.read_csv('CLOUD_BASE_L1_Y2023_M07_D04-05.csv')\n",
    "#df_cldb = df_cldb.drop(df_cldb.iloc[:, 2:], axis=1)\n",
    "\n",
    "df_cldb.loc[df_cldb['0'].isna(), '0'] = 0\n",
    "df_cldb.loc[~df_cldb['0'].isna(), '0'] = 1\n",
    "#df_cldb['0'][df_cldb['0'].isna()] = 0\n",
    "#df_cldb['0'][~df_cldb['0'].isna()] = 1\n",
    "#arrcopy[np.asarray(np.invert(np.isnan(df_cldb['0'])))] = 1\n",
    "#df_cldb['0'] = arrcopy\n",
    "#df_cldb.to_csv('cldbasetest.csv', header=True)\n",
    "df_cldb.columns = ['time', variable_cldb]\n",
    "print(df_cldb)\n"
   ]
  },
  {
   "cell_type": "code",
   "execution_count": 95,
   "metadata": {},
   "outputs": [
    {
     "name": "stdout",
     "output_type": "stream",
     "text": [
      "                     mixed_layer_height\n",
      "time                                   \n",
      "2021-01-02 00:00:00                 NaN\n",
      "2021-01-02 00:01:00                 NaN\n",
      "2021-01-02 00:03:00                 NaN\n",
      "2021-01-02 00:04:00                 NaN\n",
      "2021-01-02 00:06:00                 NaN\n",
      "...                                 ...\n",
      "2021-12-31 23:55:00                 NaN\n",
      "2021-12-31 23:56:00                 NaN\n",
      "2021-12-31 23:57:00                 NaN\n",
      "2021-12-31 23:58:00                 NaN\n",
      "2021-12-31 23:59:00                 NaN\n",
      "\n",
      "[313920 rows x 1 columns]\n"
     ]
    },
    {
     "ename": "",
     "evalue": "",
     "output_type": "error",
     "traceback": [
      "\u001b[1;31mThe Kernel crashed while executing code in the current cell or a previous cell. \n",
      "\u001b[1;31mPlease review the code in the cell(s) to identify a possible cause of the failure. \n",
      "\u001b[1;31mClick <a href='https://aka.ms/vscodeJupyterKernelCrash'>here</a> for more info. \n",
      "\u001b[1;31mView Jupyter <a href='command:jupyter.viewOutput'>log</a> for further details."
     ]
    }
   ],
   "source": [
    "#df1 = pd.read_csv('PBL_L15_Y2021_M01_D01-31.csv')\n",
    "#df2 = pd.read_csv('PBL_L15_Y2021_M01_D01-31.csv')\n",
    "df_all = pd.concat([pd.read_csv('PBL_L15_Y2021_M01_D01-31.csv'),pd.read_csv('PBL_L15_Y2021_M02_D01-28.csv')])\n",
    "df_all = pd.concat([df_all, pd.read_csv('PBL_L15_Y2021_M03_D01-31.csv')])\n",
    "df_all = pd.concat([df_all, pd.read_csv('PBL_L15_Y2021_M04_D01-30.csv')])\n",
    "df_all = pd.concat([df_all,pd.read_csv('PBL_L15_Y2021_M05_D01-31.csv')])\n",
    "df_all = pd.concat([df_all, pd.read_csv('PBL_L15_Y2021_M06_D01-30.csv'),pd.read_csv('PBL_L15_Y2021_M07_D01-31.csv'),pd.read_csv('PBL_L15_Y2021_M08_D01-31.csv'),pd.read_csv('PBL_L15_Y2021_M09_D01-30.csv'),pd.read_csv('PBL_L15_Y2021_M10_D01-31.csv'),pd.read_csv('PBL_L15_Y2021_M11_D01-30.csv'),pd.read_csv('PBL_L15_Y2021_M12_D01-31.csv')])\n",
    "df_all.set_index('time', inplace=True)\n",
    "print(df_all)\n",
    "df_all.to_csv('MIXED_LAYER_HEIGHT_L15_Y2021_M01-12_D01-31.csv')"
   ]
  },
  {
   "cell_type": "code",
   "execution_count": 7,
   "metadata": {},
   "outputs": [
    {
     "data": {
      "text/html": [
       "<div>\n",
       "<style scoped>\n",
       "    .dataframe tbody tr th:only-of-type {\n",
       "        vertical-align: middle;\n",
       "    }\n",
       "\n",
       "    .dataframe tbody tr th {\n",
       "        vertical-align: top;\n",
       "    }\n",
       "\n",
       "    .dataframe thead th {\n",
       "        text-align: right;\n",
       "    }\n",
       "</style>\n",
       "<table border=\"1\" class=\"dataframe\">\n",
       "  <thead>\n",
       "    <tr style=\"text-align: right;\">\n",
       "      <th></th>\n",
       "      <th>time</th>\n",
       "      <th>1.380 km</th>\n",
       "      <th>1.455 km</th>\n",
       "      <th>1.530 km</th>\n",
       "      <th>1.605 km</th>\n",
       "      <th>1.680 km</th>\n",
       "      <th>1.755 km</th>\n",
       "      <th>1.829 km</th>\n",
       "      <th>1.904 km</th>\n",
       "      <th>1.979 km</th>\n",
       "      <th>...</th>\n",
       "      <th>30.385 km</th>\n",
       "      <th>30.460 km</th>\n",
       "      <th>30.535 km</th>\n",
       "      <th>30.610 km</th>\n",
       "      <th>30.685 km</th>\n",
       "      <th>30.759 km</th>\n",
       "      <th>30.834 km</th>\n",
       "      <th>30.909 km</th>\n",
       "      <th>30.984 km</th>\n",
       "      <th>31.059 km</th>\n",
       "    </tr>\n",
       "  </thead>\n",
       "  <tbody>\n",
       "    <tr>\n",
       "      <th>0</th>\n",
       "      <td>2023-07-08</td>\n",
       "      <td>0.488372</td>\n",
       "      <td>0.430104</td>\n",
       "      <td>0.418601</td>\n",
       "      <td>0.432067</td>\n",
       "      <td>0.454759</td>\n",
       "      <td>0.471272</td>\n",
       "      <td>0.485889</td>\n",
       "      <td>0.492525</td>\n",
       "      <td>0.486733</td>\n",
       "      <td>...</td>\n",
       "      <td>-0.007505</td>\n",
       "      <td>0.014813</td>\n",
       "      <td>0.009467</td>\n",
       "      <td>0.008370</td>\n",
       "      <td>-0.012475</td>\n",
       "      <td>0.019843</td>\n",
       "      <td>-0.026282</td>\n",
       "      <td>0.007340</td>\n",
       "      <td>0.009254</td>\n",
       "      <td>0.015895</td>\n",
       "    </tr>\n",
       "    <tr>\n",
       "      <th>1</th>\n",
       "      <td>2023-07-09</td>\n",
       "      <td>1.519583</td>\n",
       "      <td>1.047744</td>\n",
       "      <td>0.752492</td>\n",
       "      <td>0.901917</td>\n",
       "      <td>0.848370</td>\n",
       "      <td>0.863843</td>\n",
       "      <td>0.801134</td>\n",
       "      <td>0.718606</td>\n",
       "      <td>0.604908</td>\n",
       "      <td>...</td>\n",
       "      <td>0.024182</td>\n",
       "      <td>0.007210</td>\n",
       "      <td>0.036252</td>\n",
       "      <td>-0.033932</td>\n",
       "      <td>0.000030</td>\n",
       "      <td>-0.012827</td>\n",
       "      <td>-0.009685</td>\n",
       "      <td>0.028355</td>\n",
       "      <td>0.003219</td>\n",
       "      <td>-0.004634</td>\n",
       "    </tr>\n",
       "  </tbody>\n",
       "</table>\n",
       "<p>2 rows × 398 columns</p>\n",
       "</div>"
      ],
      "text/plain": [
       "        time  1.380 km  1.455 km  1.530 km  1.605 km  1.680 km  1.755 km  \\\n",
       "0 2023-07-08  0.488372  0.430104  0.418601  0.432067  0.454759  0.471272   \n",
       "1 2023-07-09  1.519583  1.047744  0.752492  0.901917  0.848370  0.863843   \n",
       "\n",
       "   1.829 km  1.904 km  1.979 km  ...  30.385 km  30.460 km  30.535 km  \\\n",
       "0  0.485889  0.492525  0.486733  ...  -0.007505   0.014813   0.009467   \n",
       "1  0.801134  0.718606  0.604908  ...   0.024182   0.007210   0.036252   \n",
       "\n",
       "   30.610 km  30.685 km  30.759 km  30.834 km  30.909 km  30.984 km  31.059 km  \n",
       "0   0.008370  -0.012475   0.019843  -0.026282   0.007340   0.009254   0.015895  \n",
       "1  -0.033932   0.000030  -0.012827  -0.009685   0.028355   0.003219  -0.004634  \n",
       "\n",
       "[2 rows x 398 columns]"
      ]
     },
     "execution_count": 7,
     "metadata": {},
     "output_type": "execute_result"
    }
   ],
   "source": [
    "df_avg_nrb.head(20)"
   ]
  },
  {
   "cell_type": "code",
   "execution_count": null,
   "metadata": {},
   "outputs": [],
   "source": [
    "os.chdir('../data/HourlyAverages/')\n",
    "df_aod.to_csv('HR_AVG_' + filename_aod, header=True, index=False)\n",
    "df_ext.to_csv('HR_AVG_' + filename_ext, header=True, index=False)\n",
    "df_nrb.to_csv('HR_AVG_' + filename_nrb, header=True, index=False)"
   ]
  }
 ],
 "metadata": {
  "kernelspec": {
   "display_name": "Python 3",
   "language": "python",
   "name": "python3"
  },
  "language_info": {
   "codemirror_mode": {
    "name": "ipython",
    "version": 3
   },
   "file_extension": ".py",
   "mimetype": "text/x-python",
   "name": "python",
   "nbconvert_exporter": "python",
   "pygments_lexer": "ipython3",
   "version": "3.12.4"
  },
  "orig_nbformat": 4
 },
 "nbformat": 4,
 "nbformat_minor": 2
}
