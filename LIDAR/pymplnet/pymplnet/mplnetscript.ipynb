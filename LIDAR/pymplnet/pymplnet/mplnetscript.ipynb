{
 "cells": [
  {
   "cell_type": "code",
   "execution_count": 3,
   "metadata": {},
   "outputs": [],
   "source": [
    "import mplnetpytools as mpt\n",
    "import os\n",
    "\n",
    "# get current working directory\n",
    "path = os.getcwd()\n",
    "# change directory to data folder\n",
    "os.chdir('../data/')\n",
    "\n",
    "# Main site url\n",
    "mplnet_url= 'https://mplnet.gsfc.nasa.gov/out/data/V3_partners/Appalachian_State/'"
   ]
  },
  {
   "cell_type": "code",
   "execution_count": 4,
   "metadata": {},
   "outputs": [],
   "source": [
    "# get data folder path\n",
    "path = os.getcwd()"
   ]
  },
  {
   "cell_type": "code",
   "execution_count": 5,
   "metadata": {},
   "outputs": [
    {
     "name": "stdout",
     "output_type": "stream",
     "text": [
      "Help on function get_mplnet_html in module mplnetpytools:\n",
      "\n",
      "get_mplnet_html(url)\n",
      "    Returns the html for the mplnet address given\n",
      "    Used to scrape for file variables to assist in downloading\n",
      "    https://mplnet.gsfc.nasa.gov/out/data/V3_partners/Appalachian_State/\n",
      "\n",
      "    Args:\n",
      "        url (str): The url for the mplnet html\n",
      "\n",
      "    Returns:\n",
      "        requests.Response object: The html for the mplnet address given\n",
      "\n"
     ]
    }
   ],
   "source": [
    "# Demostrate help function\n",
    "help(mpt.get_mplnet_html)"
   ]
  },
  {
   "cell_type": "code",
   "execution_count": 6,
   "metadata": {},
   "outputs": [
    {
     "name": "stdout",
     "output_type": "stream",
     "text": [
      "['2016', '2017', '2018', '2019', '2020', '2021', '2022', '2023']\n"
     ]
    }
   ],
   "source": [
    "# Scrape for AppState Years available\n",
    "years = mpt.parse_year(mpt.get_mplnet_html(mplnet_url).text)\n",
    "\n",
    "# Show aviailable years\n",
    "print(years)"
   ]
  },
  {
   "cell_type": "code",
   "execution_count": 9,
   "metadata": {},
   "outputs": [
    {
     "name": "stdout",
     "output_type": "stream",
     "text": [
      "Years selected: \n",
      "2022 2023\n",
      "\n",
      "Months selected: \n",
      "01 02\n",
      "\n",
      "Days selected: \n",
      "01 02 03 04\n",
      "\n",
      "FileTypes selected: \n",
      "AER\n",
      "\n"
     ]
    }
   ],
   "source": [
    "# Setup selection for download\n",
    "years = ['2022', '2023']\n",
    "months = ['01', '02']\n",
    "days = ['01', '02', '03', '04']\n",
    "fileType = ['AER']\n",
    "\n",
    "download_list = [years, months, days, fileType]\n",
    "\n",
    "# Create SelectionVariables class object\n",
    "selVars = mpt.SelectionVariables()\n",
    "for dl in download_list:\n",
    "    selVars.next()\n",
    "    selVars.storeCurrent(dl)\n",
    "\n",
    "# Display selected years, months, days, and file types\n",
    "print(selVars.printSelected())"
   ]
  },
  {
   "cell_type": "code",
   "execution_count": 10,
   "metadata": {},
   "outputs": [],
   "source": [
    "# Build dowlnoad urls\n",
    "urls, dirs, files = selVars.prepDownload()"
   ]
  },
  {
   "cell_type": "code",
   "execution_count": 14,
   "metadata": {},
   "outputs": [
    {
     "name": "stdout",
     "output_type": "stream",
     "text": [
      "MPLNET_V3_L15_AER_20220101_MPL44201_Appalachian_State.nc4 already exists\n",
      "MPLNET_V3_L15_AER_20220102_MPL44201_Appalachian_State.nc4 already exists\n",
      "MPLNET_V3_L15_AER_20220103_MPL44201_Appalachian_State.nc4 download successful\n",
      "MPLNET_V3_L15_AER_20220104_MPL44201_Appalachian_State.nc4 already exists\n",
      "MPLNET_V3_L15_AER_20220201_MPL44201_Appalachian_State.nc4 already exists\n",
      "MPLNET_V3_L15_AER_20220202_MPL44201_Appalachian_State.nc4 already exists\n",
      "MPLNET_V3_L15_AER_20220203_MPL44201_Appalachian_State.nc4 already exists\n",
      "MPLNET_V3_L15_AER_20220204_MPL44201_Appalachian_State.nc4 already exists\n",
      "MPLNET_V3_L15_AER_20230101_MPL44201_Appalachian_State.nc4 already exists\n",
      "MPLNET_V3_L15_AER_20230102_MPL44201_Appalachian_State.nc4 already exists\n",
      "MPLNET_V3_L15_AER_20230103_MPL44201_Appalachian_State.nc4 already exists\n",
      "MPLNET_V3_L15_AER_20230104_MPL44201_Appalachian_State.nc4 already exists\n",
      "MPLNET_V3_L15_AER_20230201_MPL44201_Appalachian_State.nc4 already exists\n",
      "MPLNET_V3_L15_AER_20230202_MPL44201_Appalachian_State.nc4 download successful\n",
      "MPLNET_V3_L15_AER_20230203_MPL44201_Appalachian_State.nc4 already exists\n",
      "MPLNET_V3_L15_AER_20230204_MPL44201_Appalachian_State.nc4 download successful\n"
     ]
    }
   ],
   "source": [
    "# Download selected files\n",
    "for url, dir, file in zip(urls, dirs, files):\n",
    "    print(selVars.download(url, dir, file))"
   ]
  },
  {
   "cell_type": "code",
   "execution_count": 15,
   "metadata": {},
   "outputs": [],
   "source": [
    "# Prepare data for export\n",
    "# Choose variable to export\n",
    "variable = 'aod'\n",
    "\n",
    "# Create export filename\n",
    "filename = mpt.create_export_name(selVars, variable)\n",
    "\n",
    "# Create list of full file paths\n",
    "fullfiles = [x + y for x, y in zip(dirs, files)]\n",
    "\n",
    "# Export data\n",
    "mpt.export(filename, fullfiles, variable)"
   ]
  },
  {
   "cell_type": "code",
   "execution_count": 24,
   "metadata": {},
   "outputs": [
    {
     "name": "stdout",
     "output_type": "stream",
     "text": [
      "AOD_Y2022-2023_M01-02_D01-04.csv exist: True\n"
     ]
    }
   ],
   "source": [
    "# Confirm export success\n",
    "print('{} exist: {}'.format(filename, os.path.isfile(filename)))"
   ]
  }
 ],
 "metadata": {
  "kernelspec": {
   "display_name": "Python 3",
   "language": "python",
   "name": "python3"
  },
  "language_info": {
   "codemirror_mode": {
    "name": "ipython",
    "version": 3
   },
   "file_extension": ".py",
   "mimetype": "text/x-python",
   "name": "python",
   "nbconvert_exporter": "python",
   "pygments_lexer": "ipython3",
   "version": "3.12.0"
  },
  "orig_nbformat": 4
 },
 "nbformat": 4,
 "nbformat_minor": 2
}
